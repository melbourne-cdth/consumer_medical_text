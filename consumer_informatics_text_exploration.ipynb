{
 "cells": [
  {
   "cell_type": "markdown",
   "metadata": {},
   "source": [
    "# Exploring Text Data with a Consumer Lens\n",
    "\n",
    "### We need to install some software"
   ]
  },
  {
   "cell_type": "code",
   "execution_count": null,
   "metadata": {},
   "outputs": [],
   "source": [
    "import warnings\n",
    "warnings.simplefilter(\"ignore\")\n",
    "warnings.filterwarnings('ignore')\n",
    "\n",
    "import ibis\n",
    "import ipywidgets as ipw\n",
    "import spacy\n",
    "from spacy.pipeline import EntityRuler\n",
    "from medspacy.context import ConTextComponent, ConTextItem\n",
    "from medspacy.visualization import visualize_ent\n",
    "from spacy_readability import Readability\n",
    "from IPython.display import display, HTML\n",
    "nlp = spacy.load(\"en_info_3700_i2b2_2012\")\n",
    "import getpass\n"
   ]
  },
  {
   "cell_type": "code",
   "execution_count": null,
   "metadata": {},
   "outputs": [],
   "source": [
    "MIMICHOST = \"35.233.174.193\"\n",
    "con = ibis.mysql.connect(\n",
    "   user=input(\"Enter username\"),\n",
    "   password=getpass.getpass(\"Enter password\"),\n",
    "   host=MIMICHOST,\n",
    "   database='mimic2',\n",
    "   )"
   ]
  },
  {
   "cell_type": "code",
   "execution_count": null,
   "metadata": {},
   "outputs": [],
   "source": [
    "ibis.options.interactive = True\n"
   ]
  },
  {
   "cell_type": "markdown",
   "metadata": {},
   "source": [
    "### Types of Notes available\n",
    "\n",
    "- 'DISCHARGE_SUMMARY'\n",
    "- 'MD Notes'\n",
    "- 'Nursing/Other'\n",
    "- 'RADIOLOGY_REPORT'"
   ]
  },
  {
   "cell_type": "markdown",
   "metadata": {},
   "source": [
    "### We are only going to look at noteevents and these three columns"
   ]
  },
  {
   "cell_type": "code",
   "execution_count": null,
   "metadata": {},
   "outputs": [],
   "source": [
    "table = con.table('noteevents')['subject_id', 'text', 'category']"
   ]
  },
  {
   "cell_type": "markdown",
   "metadata": {},
   "source": [
    "### Think of some terms to search for sensitive information"
   ]
  },
  {
   "cell_type": "code",
   "execution_count": null,
   "metadata": {},
   "outputs": [],
   "source": [
    "filters = [table.category=='Nursing/Other', table.text.re_search('sexual|illicit drug|abuse')]\n",
    "#filters = [table.subject_id==7524]\n",
    "filters = [table.category=='Nursing/Other', table.text.re_search('sexual')]\n"
   ]
  },
  {
   "cell_type": "code",
   "execution_count": null,
   "metadata": {},
   "outputs": [],
   "source": [
    "tmp = table.filter(filters)"
   ]
  },
  {
   "cell_type": "code",
   "execution_count": null,
   "metadata": {},
   "outputs": [],
   "source": [
    "def view_results(tbl):\n",
    "    @ipw.interact(x=ipw.fixed(tbl), n=ipw.IntSlider(max=tbl.shape[0]-1))\n",
    "    def _view(x,n):\n",
    "        print(\"%s: %s\"%(x.iloc[n,0], x.iloc[n,-1]))\n",
    "        print(x.iloc[n,1])"
   ]
  },
  {
   "cell_type": "code",
   "execution_count": null,
   "metadata": {},
   "outputs": [],
   "source": [
    "view_results((tmp).execute())"
   ]
  },
  {
   "cell_type": "markdown",
   "metadata": {},
   "source": [
    "## Document Complexity\n",
    "\n",
    "In this section you can explore the complexity of the documents. We are using the Spacy NLP packae. If the documents get too large or too numerous the kernel will die, so be cautious."
   ]
  },
  {
   "cell_type": "code",
   "execution_count": null,
   "metadata": {},
   "outputs": [],
   "source": [
    "ruler = EntityRuler(nlp, phrase_matcher_attr=\"LOWER\", overwrite_ents=False)"
   ]
  },
  {
   "cell_type": "code",
   "execution_count": null,
   "metadata": {},
   "outputs": [],
   "source": [
    "%%capture\n",
    "context = ConTextComponent(nlp, rules=\"default\")"
   ]
  },
  {
   "cell_type": "code",
   "execution_count": null,
   "metadata": {},
   "outputs": [],
   "source": [
    "nlp.add_pipe(ruler)\n",
    "nlp.add_pipe(context)\n",
    "nlp.add_pipe(Readability())\n"
   ]
  },
  {
   "cell_type": "markdown",
   "metadata": {},
   "source": [
    "#### [Spacy-Readability](https://github.com/mholtzscher/spacy_readability)\n",
    "\n",
    "The Readability pipeline computes various readability score. I'm arbitrarily pulling out the SMOG score and sorting by it. You can change this to one of the other scores comptued.\n",
    "\n",
    "We are also using Spacy to markup clinical concepts that it identifies. The number of clinical concepts may also relate to the difficulty of understanding the document."
   ]
  },
  {
   "cell_type": "code",
   "execution_count": null,
   "metadata": {},
   "outputs": [],
   "source": [
    "t = con.table('noteevents')['subject_id', 'text', 'category']"
   ]
  },
  {
   "cell_type": "markdown",
   "metadata": {},
   "source": [
    "### Add/Modify filters as desired"
   ]
  },
  {
   "cell_type": "code",
   "execution_count": null,
   "metadata": {},
   "outputs": [],
   "source": [
    "filters2 = [t.category=='DISCHARGE_SUMMARY']\n",
    "filters2 = [t.category=='Nursing/Other', t.text.re_search(\"SOCIAL WORK\")]\n"
   ]
  },
  {
   "cell_type": "code",
   "execution_count": null,
   "metadata": {},
   "outputs": [],
   "source": [
    "data2  = ((t.filter(filters2)).limit(100, offset=200)).execute()"
   ]
  },
  {
   "cell_type": "code",
   "execution_count": null,
   "metadata": {},
   "outputs": [],
   "source": [
    "data2['docs'] = list(nlp.pipe(data2.text))"
   ]
  },
  {
   "cell_type": "code",
   "execution_count": null,
   "metadata": {},
   "outputs": [],
   "source": [
    "data2['smog'] = data2.docs.apply(lambda x: x._.smog)"
   ]
  },
  {
   "cell_type": "code",
   "execution_count": null,
   "metadata": {},
   "outputs": [],
   "source": [
    "def view_doc_results(tbl):\n",
    "    @ipw.interact(x=ipw.fixed(tbl), n=ipw.IntSlider(max=tbl.shape[0]-1), mode=['PLAIN','MARKUP'])\n",
    "    def _view(x,n, mode):\n",
    "        display(HTML(\"<h3>subject: %s-- smog score: %s</h3>\"%(x.iloc[n,0], x.iloc[n,-1])))\n",
    "        if mode == 'MARKUP':\n",
    "            visualize_ent(x.iloc[n,-2])\n",
    "        else:\n",
    "            print(x.iloc[n,1])\n"
   ]
  },
  {
   "cell_type": "code",
   "execution_count": null,
   "metadata": {},
   "outputs": [],
   "source": [
    "view_doc_results(data2.sort_values('smog', ascending=False))"
   ]
  },
  {
   "cell_type": "code",
   "execution_count": null,
   "metadata": {},
   "outputs": [],
   "source": []
  }
 ],
 "metadata": {
  "kernelspec": {
   "display_name": "Python 3",
   "language": "python",
   "name": "python3"
  },
  "language_info": {
   "codemirror_mode": {
    "name": "ipython",
    "version": 3
   },
   "file_extension": ".py",
   "mimetype": "text/x-python",
   "name": "python",
   "nbconvert_exporter": "python",
   "pygments_lexer": "ipython3",
   "version": "3.7.10"
  }
 },
 "nbformat": 4,
 "nbformat_minor": 4
}
